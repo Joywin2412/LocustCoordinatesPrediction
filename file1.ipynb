{
 "cells": [
  {
   "cell_type": "code",
   "execution_count": 84,
   "metadata": {},
   "outputs": [],
   "source": [
    "import pandas as pd\n",
    "\n",
    "df = pd.read_csv(\"Swarms.csv\")"
   ]
  },
  {
   "cell_type": "code",
   "execution_count": 85,
   "metadata": {},
   "outputs": [
    {
     "data": {
      "text/html": [
       "<div>\n",
       "<style scoped>\n",
       "    .dataframe tbody tr th:only-of-type {\n",
       "        vertical-align: middle;\n",
       "    }\n",
       "\n",
       "    .dataframe tbody tr th {\n",
       "        vertical-align: top;\n",
       "    }\n",
       "\n",
       "    .dataframe thead th {\n",
       "        text-align: right;\n",
       "    }\n",
       "</style>\n",
       "<table border=\"1\" class=\"dataframe\">\n",
       "  <thead>\n",
       "    <tr style=\"text-align: right;\">\n",
       "      <th></th>\n",
       "      <th>X</th>\n",
       "      <th>Y</th>\n",
       "      <th>OBJECTID</th>\n",
       "      <th>STARTDATE</th>\n",
       "      <th>TmSTARTDAT</th>\n",
       "      <th>FINISHDATE</th>\n",
       "      <th>TmFINISHDA</th>\n",
       "      <th>EXACTDATE</th>\n",
       "      <th>PARTMONTH</th>\n",
       "      <th>LOCNAME</th>\n",
       "      <th>...</th>\n",
       "      <th>CTLQTYU</th>\n",
       "      <th>CTLARTREA</th>\n",
       "      <th>CTLARTREAU</th>\n",
       "      <th>CTLAPPHAND</th>\n",
       "      <th>CTLAPPVEHI</th>\n",
       "      <th>CTLAPPAIR</th>\n",
       "      <th>CTLAPPMECH</th>\n",
       "      <th>CTLAPPUNK</th>\n",
       "      <th>CTLESTKILL</th>\n",
       "      <th>CAT</th>\n",
       "    </tr>\n",
       "  </thead>\n",
       "  <tbody>\n",
       "    <tr>\n",
       "      <th>0</th>\n",
       "      <td>-15.131944</td>\n",
       "      <td>17.870278</td>\n",
       "      <td>1</td>\n",
       "      <td>1985/11/30 00:00:00</td>\n",
       "      <td>12:00</td>\n",
       "      <td>1985/11/30 00:00:00</td>\n",
       "      <td>12:00</td>\n",
       "      <td>No</td>\n",
       "      <td>Late</td>\n",
       "      <td></td>\n",
       "      <td>...</td>\n",
       "      <td></td>\n",
       "      <td>0.0</td>\n",
       "      <td></td>\n",
       "      <td>0</td>\n",
       "      <td>0</td>\n",
       "      <td>0</td>\n",
       "      <td>0</td>\n",
       "      <td>0</td>\n",
       "      <td>0</td>\n",
       "      <td>Swarm</td>\n",
       "    </tr>\n",
       "    <tr>\n",
       "      <th>1</th>\n",
       "      <td>-15.400278</td>\n",
       "      <td>18.030833</td>\n",
       "      <td>2</td>\n",
       "      <td>1985/11/26 00:00:00</td>\n",
       "      <td>12:00</td>\n",
       "      <td>1985/11/26 00:00:00</td>\n",
       "      <td>12:00</td>\n",
       "      <td>No</td>\n",
       "      <td>Late</td>\n",
       "      <td></td>\n",
       "      <td>...</td>\n",
       "      <td></td>\n",
       "      <td>0.0</td>\n",
       "      <td></td>\n",
       "      <td>0</td>\n",
       "      <td>0</td>\n",
       "      <td>0</td>\n",
       "      <td>0</td>\n",
       "      <td>0</td>\n",
       "      <td>0</td>\n",
       "      <td>Swarm</td>\n",
       "    </tr>\n",
       "    <tr>\n",
       "      <th>2</th>\n",
       "      <td>-14.668889</td>\n",
       "      <td>17.988889</td>\n",
       "      <td>3</td>\n",
       "      <td>1985/11/27 00:00:00</td>\n",
       "      <td>12:00</td>\n",
       "      <td>1985/11/27 00:00:00</td>\n",
       "      <td>12:00</td>\n",
       "      <td>No</td>\n",
       "      <td>Late</td>\n",
       "      <td></td>\n",
       "      <td>...</td>\n",
       "      <td></td>\n",
       "      <td>0.0</td>\n",
       "      <td></td>\n",
       "      <td>0</td>\n",
       "      <td>0</td>\n",
       "      <td>0</td>\n",
       "      <td>0</td>\n",
       "      <td>0</td>\n",
       "      <td>0</td>\n",
       "      <td>Swarm</td>\n",
       "    </tr>\n",
       "    <tr>\n",
       "      <th>3</th>\n",
       "      <td>-14.633333</td>\n",
       "      <td>17.835833</td>\n",
       "      <td>4</td>\n",
       "      <td>1985/11/30 00:00:00</td>\n",
       "      <td>12:00</td>\n",
       "      <td>1985/11/30 00:00:00</td>\n",
       "      <td>12:00</td>\n",
       "      <td>No</td>\n",
       "      <td>Late</td>\n",
       "      <td></td>\n",
       "      <td>...</td>\n",
       "      <td></td>\n",
       "      <td>0.0</td>\n",
       "      <td></td>\n",
       "      <td>0</td>\n",
       "      <td>0</td>\n",
       "      <td>0</td>\n",
       "      <td>0</td>\n",
       "      <td>0</td>\n",
       "      <td>0</td>\n",
       "      <td>Swarm</td>\n",
       "    </tr>\n",
       "    <tr>\n",
       "      <th>4</th>\n",
       "      <td>-13.353889</td>\n",
       "      <td>18.026389</td>\n",
       "      <td>5</td>\n",
       "      <td>1985/10/15 00:00:00</td>\n",
       "      <td>12:00</td>\n",
       "      <td>1985/10/15 00:00:00</td>\n",
       "      <td>12:00</td>\n",
       "      <td>Yes</td>\n",
       "      <td></td>\n",
       "      <td></td>\n",
       "      <td>...</td>\n",
       "      <td></td>\n",
       "      <td>0.0</td>\n",
       "      <td></td>\n",
       "      <td>0</td>\n",
       "      <td>0</td>\n",
       "      <td>0</td>\n",
       "      <td>0</td>\n",
       "      <td>0</td>\n",
       "      <td>0</td>\n",
       "      <td>Swarm</td>\n",
       "    </tr>\n",
       "  </tbody>\n",
       "</table>\n",
       "<p>5 rows × 152 columns</p>\n",
       "</div>"
      ],
      "text/plain": [
       "           X          Y  OBJECTID            STARTDATE TmSTARTDAT   \n",
       "0 -15.131944  17.870278         1  1985/11/30 00:00:00      12:00  \\\n",
       "1 -15.400278  18.030833         2  1985/11/26 00:00:00      12:00   \n",
       "2 -14.668889  17.988889         3  1985/11/27 00:00:00      12:00   \n",
       "3 -14.633333  17.835833         4  1985/11/30 00:00:00      12:00   \n",
       "4 -13.353889  18.026389         5  1985/10/15 00:00:00      12:00   \n",
       "\n",
       "            FINISHDATE TmFINISHDA EXACTDATE PARTMONTH LOCNAME  ...  CTLQTYU   \n",
       "0  1985/11/30 00:00:00      12:00        No      Late          ...           \\\n",
       "1  1985/11/26 00:00:00      12:00        No      Late          ...            \n",
       "2  1985/11/27 00:00:00      12:00        No      Late          ...            \n",
       "3  1985/11/30 00:00:00      12:00        No      Late          ...            \n",
       "4  1985/10/15 00:00:00      12:00       Yes                    ...            \n",
       "\n",
       "  CTLARTREA CTLARTREAU  CTLAPPHAND CTLAPPVEHI CTLAPPAIR  CTLAPPMECH   \n",
       "0       0.0                      0          0         0           0  \\\n",
       "1       0.0                      0          0         0           0   \n",
       "2       0.0                      0          0         0           0   \n",
       "3       0.0                      0          0         0           0   \n",
       "4       0.0                      0          0         0           0   \n",
       "\n",
       "   CTLAPPUNK  CTLESTKILL    CAT  \n",
       "0          0           0  Swarm  \n",
       "1          0           0  Swarm  \n",
       "2          0           0  Swarm  \n",
       "3          0           0  Swarm  \n",
       "4          0           0  Swarm  \n",
       "\n",
       "[5 rows x 152 columns]"
      ]
     },
     "execution_count": 85,
     "metadata": {},
     "output_type": "execute_result"
    }
   ],
   "source": [
    "df.head()"
   ]
  },
  {
   "cell_type": "code",
   "execution_count": 86,
   "metadata": {},
   "outputs": [],
   "source": [
    "df_now = df[['X','Y','STARTDATE','LOCPRESENT']]"
   ]
  },
  {
   "cell_type": "code",
   "execution_count": 87,
   "metadata": {},
   "outputs": [
    {
     "data": {
      "text/html": [
       "<div>\n",
       "<style scoped>\n",
       "    .dataframe tbody tr th:only-of-type {\n",
       "        vertical-align: middle;\n",
       "    }\n",
       "\n",
       "    .dataframe tbody tr th {\n",
       "        vertical-align: top;\n",
       "    }\n",
       "\n",
       "    .dataframe thead th {\n",
       "        text-align: right;\n",
       "    }\n",
       "</style>\n",
       "<table border=\"1\" class=\"dataframe\">\n",
       "  <thead>\n",
       "    <tr style=\"text-align: right;\">\n",
       "      <th></th>\n",
       "      <th>X</th>\n",
       "      <th>Y</th>\n",
       "      <th>STARTDATE</th>\n",
       "      <th>LOCPRESENT</th>\n",
       "    </tr>\n",
       "  </thead>\n",
       "  <tbody>\n",
       "    <tr>\n",
       "      <th>0</th>\n",
       "      <td>-15.131944</td>\n",
       "      <td>17.870278</td>\n",
       "      <td>1985/11/30 00:00:00</td>\n",
       "      <td>1</td>\n",
       "    </tr>\n",
       "    <tr>\n",
       "      <th>1</th>\n",
       "      <td>-15.400278</td>\n",
       "      <td>18.030833</td>\n",
       "      <td>1985/11/26 00:00:00</td>\n",
       "      <td>1</td>\n",
       "    </tr>\n",
       "    <tr>\n",
       "      <th>2</th>\n",
       "      <td>-14.668889</td>\n",
       "      <td>17.988889</td>\n",
       "      <td>1985/11/27 00:00:00</td>\n",
       "      <td>1</td>\n",
       "    </tr>\n",
       "    <tr>\n",
       "      <th>3</th>\n",
       "      <td>-14.633333</td>\n",
       "      <td>17.835833</td>\n",
       "      <td>1985/11/30 00:00:00</td>\n",
       "      <td>1</td>\n",
       "    </tr>\n",
       "    <tr>\n",
       "      <th>4</th>\n",
       "      <td>-13.353889</td>\n",
       "      <td>18.026389</td>\n",
       "      <td>1985/10/15 00:00:00</td>\n",
       "      <td>1</td>\n",
       "    </tr>\n",
       "  </tbody>\n",
       "</table>\n",
       "</div>"
      ],
      "text/plain": [
       "           X          Y            STARTDATE  LOCPRESENT\n",
       "0 -15.131944  17.870278  1985/11/30 00:00:00           1\n",
       "1 -15.400278  18.030833  1985/11/26 00:00:00           1\n",
       "2 -14.668889  17.988889  1985/11/27 00:00:00           1\n",
       "3 -14.633333  17.835833  1985/11/30 00:00:00           1\n",
       "4 -13.353889  18.026389  1985/10/15 00:00:00           1"
      ]
     },
     "execution_count": 87,
     "metadata": {},
     "output_type": "execute_result"
    }
   ],
   "source": [
    "df_now.head()"
   ]
  },
  {
   "cell_type": "code",
   "execution_count": 88,
   "metadata": {},
   "outputs": [],
   "source": [
    "df['STARTDATE'] = pd.to_datetime(df['STARTDATE'])\n"
   ]
  },
  {
   "cell_type": "code",
   "execution_count": 89,
   "metadata": {},
   "outputs": [
    {
     "data": {
      "text/plain": [
       "0       1985-11-30 00:00:00\n",
       "1       1985-11-26 00:00:00\n",
       "2       1985-11-27 00:00:00\n",
       "3       1985-11-30 00:00:00\n",
       "4       1985-10-15 00:00:00\n",
       "                ...        \n",
       "29379   2020-06-30 21:59:59\n",
       "29380   2020-07-06 21:59:59\n",
       "29381   2020-07-06 21:59:59\n",
       "29382   2020-07-06 21:59:59\n",
       "29383   2020-07-05 21:59:59\n",
       "Name: STARTDATE, Length: 29384, dtype: datetime64[ns]"
      ]
     },
     "execution_count": 89,
     "metadata": {},
     "output_type": "execute_result"
    }
   ],
   "source": [
    "df['STARTDATE']"
   ]
  },
  {
   "cell_type": "code",
   "execution_count": 90,
   "metadata": {},
   "outputs": [],
   "source": [
    "df['year'] = df['STARTDATE'].dt.year\n",
    "df['month'] = df['STARTDATE'].dt.month\n",
    "df['day'] = df['STARTDATE'].dt.day\n",
    "df['day_of_year'] = df['STARTDATE'].dt.dayofyear\n",
    "df['season'] = (df['STARTDATE'].dt.month % 12 + 3) // 3\n"
   ]
  },
  {
   "cell_type": "code",
   "execution_count": 91,
   "metadata": {},
   "outputs": [
    {
     "data": {
      "text/html": [
       "<div>\n",
       "<style scoped>\n",
       "    .dataframe tbody tr th:only-of-type {\n",
       "        vertical-align: middle;\n",
       "    }\n",
       "\n",
       "    .dataframe tbody tr th {\n",
       "        vertical-align: top;\n",
       "    }\n",
       "\n",
       "    .dataframe thead th {\n",
       "        text-align: right;\n",
       "    }\n",
       "</style>\n",
       "<table border=\"1\" class=\"dataframe\">\n",
       "  <thead>\n",
       "    <tr style=\"text-align: right;\">\n",
       "      <th></th>\n",
       "      <th>X</th>\n",
       "      <th>Y</th>\n",
       "      <th>OBJECTID</th>\n",
       "      <th>STARTDATE</th>\n",
       "      <th>TmSTARTDAT</th>\n",
       "      <th>FINISHDATE</th>\n",
       "      <th>TmFINISHDA</th>\n",
       "      <th>EXACTDATE</th>\n",
       "      <th>PARTMONTH</th>\n",
       "      <th>LOCNAME</th>\n",
       "      <th>...</th>\n",
       "      <th>CTLAPPAIR</th>\n",
       "      <th>CTLAPPMECH</th>\n",
       "      <th>CTLAPPUNK</th>\n",
       "      <th>CTLESTKILL</th>\n",
       "      <th>CAT</th>\n",
       "      <th>year</th>\n",
       "      <th>month</th>\n",
       "      <th>day</th>\n",
       "      <th>day_of_year</th>\n",
       "      <th>season</th>\n",
       "    </tr>\n",
       "  </thead>\n",
       "  <tbody>\n",
       "    <tr>\n",
       "      <th>0</th>\n",
       "      <td>-15.131944</td>\n",
       "      <td>17.870278</td>\n",
       "      <td>1</td>\n",
       "      <td>1985-11-30</td>\n",
       "      <td>12:00</td>\n",
       "      <td>1985/11/30 00:00:00</td>\n",
       "      <td>12:00</td>\n",
       "      <td>No</td>\n",
       "      <td>Late</td>\n",
       "      <td></td>\n",
       "      <td>...</td>\n",
       "      <td>0</td>\n",
       "      <td>0</td>\n",
       "      <td>0</td>\n",
       "      <td>0</td>\n",
       "      <td>Swarm</td>\n",
       "      <td>1985</td>\n",
       "      <td>11</td>\n",
       "      <td>30</td>\n",
       "      <td>334</td>\n",
       "      <td>4</td>\n",
       "    </tr>\n",
       "    <tr>\n",
       "      <th>1</th>\n",
       "      <td>-15.400278</td>\n",
       "      <td>18.030833</td>\n",
       "      <td>2</td>\n",
       "      <td>1985-11-26</td>\n",
       "      <td>12:00</td>\n",
       "      <td>1985/11/26 00:00:00</td>\n",
       "      <td>12:00</td>\n",
       "      <td>No</td>\n",
       "      <td>Late</td>\n",
       "      <td></td>\n",
       "      <td>...</td>\n",
       "      <td>0</td>\n",
       "      <td>0</td>\n",
       "      <td>0</td>\n",
       "      <td>0</td>\n",
       "      <td>Swarm</td>\n",
       "      <td>1985</td>\n",
       "      <td>11</td>\n",
       "      <td>26</td>\n",
       "      <td>330</td>\n",
       "      <td>4</td>\n",
       "    </tr>\n",
       "    <tr>\n",
       "      <th>2</th>\n",
       "      <td>-14.668889</td>\n",
       "      <td>17.988889</td>\n",
       "      <td>3</td>\n",
       "      <td>1985-11-27</td>\n",
       "      <td>12:00</td>\n",
       "      <td>1985/11/27 00:00:00</td>\n",
       "      <td>12:00</td>\n",
       "      <td>No</td>\n",
       "      <td>Late</td>\n",
       "      <td></td>\n",
       "      <td>...</td>\n",
       "      <td>0</td>\n",
       "      <td>0</td>\n",
       "      <td>0</td>\n",
       "      <td>0</td>\n",
       "      <td>Swarm</td>\n",
       "      <td>1985</td>\n",
       "      <td>11</td>\n",
       "      <td>27</td>\n",
       "      <td>331</td>\n",
       "      <td>4</td>\n",
       "    </tr>\n",
       "    <tr>\n",
       "      <th>3</th>\n",
       "      <td>-14.633333</td>\n",
       "      <td>17.835833</td>\n",
       "      <td>4</td>\n",
       "      <td>1985-11-30</td>\n",
       "      <td>12:00</td>\n",
       "      <td>1985/11/30 00:00:00</td>\n",
       "      <td>12:00</td>\n",
       "      <td>No</td>\n",
       "      <td>Late</td>\n",
       "      <td></td>\n",
       "      <td>...</td>\n",
       "      <td>0</td>\n",
       "      <td>0</td>\n",
       "      <td>0</td>\n",
       "      <td>0</td>\n",
       "      <td>Swarm</td>\n",
       "      <td>1985</td>\n",
       "      <td>11</td>\n",
       "      <td>30</td>\n",
       "      <td>334</td>\n",
       "      <td>4</td>\n",
       "    </tr>\n",
       "    <tr>\n",
       "      <th>4</th>\n",
       "      <td>-13.353889</td>\n",
       "      <td>18.026389</td>\n",
       "      <td>5</td>\n",
       "      <td>1985-10-15</td>\n",
       "      <td>12:00</td>\n",
       "      <td>1985/10/15 00:00:00</td>\n",
       "      <td>12:00</td>\n",
       "      <td>Yes</td>\n",
       "      <td></td>\n",
       "      <td></td>\n",
       "      <td>...</td>\n",
       "      <td>0</td>\n",
       "      <td>0</td>\n",
       "      <td>0</td>\n",
       "      <td>0</td>\n",
       "      <td>Swarm</td>\n",
       "      <td>1985</td>\n",
       "      <td>10</td>\n",
       "      <td>15</td>\n",
       "      <td>288</td>\n",
       "      <td>4</td>\n",
       "    </tr>\n",
       "  </tbody>\n",
       "</table>\n",
       "<p>5 rows × 157 columns</p>\n",
       "</div>"
      ],
      "text/plain": [
       "           X          Y  OBJECTID  STARTDATE TmSTARTDAT           FINISHDATE   \n",
       "0 -15.131944  17.870278         1 1985-11-30      12:00  1985/11/30 00:00:00  \\\n",
       "1 -15.400278  18.030833         2 1985-11-26      12:00  1985/11/26 00:00:00   \n",
       "2 -14.668889  17.988889         3 1985-11-27      12:00  1985/11/27 00:00:00   \n",
       "3 -14.633333  17.835833         4 1985-11-30      12:00  1985/11/30 00:00:00   \n",
       "4 -13.353889  18.026389         5 1985-10-15      12:00  1985/10/15 00:00:00   \n",
       "\n",
       "  TmFINISHDA EXACTDATE PARTMONTH LOCNAME  ...  CTLAPPAIR CTLAPPMECH CTLAPPUNK   \n",
       "0      12:00        No      Late          ...          0          0         0  \\\n",
       "1      12:00        No      Late          ...          0          0         0   \n",
       "2      12:00        No      Late          ...          0          0         0   \n",
       "3      12:00        No      Late          ...          0          0         0   \n",
       "4      12:00       Yes                    ...          0          0         0   \n",
       "\n",
       "   CTLESTKILL    CAT  year  month  day  day_of_year  season  \n",
       "0           0  Swarm  1985     11   30          334       4  \n",
       "1           0  Swarm  1985     11   26          330       4  \n",
       "2           0  Swarm  1985     11   27          331       4  \n",
       "3           0  Swarm  1985     11   30          334       4  \n",
       "4           0  Swarm  1985     10   15          288       4  \n",
       "\n",
       "[5 rows x 157 columns]"
      ]
     },
     "execution_count": 91,
     "metadata": {},
     "output_type": "execute_result"
    }
   ],
   "source": [
    "df.head()"
   ]
  },
  {
   "cell_type": "code",
   "execution_count": 92,
   "metadata": {},
   "outputs": [
    {
     "data": {
      "text/plain": [
       "29384"
      ]
     },
     "execution_count": 92,
     "metadata": {},
     "output_type": "execute_result"
    }
   ],
   "source": [
    "len(df)"
   ]
  },
  {
   "cell_type": "code",
   "execution_count": 93,
   "metadata": {},
   "outputs": [],
   "source": [
    "df = df[df['LOCPRESENT'] != 2]"
   ]
  },
  {
   "cell_type": "code",
   "execution_count": 94,
   "metadata": {},
   "outputs": [
    {
     "data": {
      "text/plain": [
       "29280"
      ]
     },
     "execution_count": 94,
     "metadata": {},
     "output_type": "execute_result"
    }
   ],
   "source": [
    "len(df)"
   ]
  },
  {
   "cell_type": "code",
   "execution_count": 95,
   "metadata": {},
   "outputs": [],
   "source": [
    "df_train = df[df['year']<2015]\n",
    "X_train = df_train[['year','month','day_of_year','season']]\n",
    "X_train = X_train.values\n",
    "Y_train = df_train[['X','Y']]\n",
    "Y_train = Y_train.values"
   ]
  },
  {
   "cell_type": "code",
   "execution_count": 96,
   "metadata": {},
   "outputs": [
    {
     "data": {
      "text/html": [
       "<div>\n",
       "<style scoped>\n",
       "    .dataframe tbody tr th:only-of-type {\n",
       "        vertical-align: middle;\n",
       "    }\n",
       "\n",
       "    .dataframe tbody tr th {\n",
       "        vertical-align: top;\n",
       "    }\n",
       "\n",
       "    .dataframe thead th {\n",
       "        text-align: right;\n",
       "    }\n",
       "</style>\n",
       "<table border=\"1\" class=\"dataframe\">\n",
       "  <thead>\n",
       "    <tr style=\"text-align: right;\">\n",
       "      <th></th>\n",
       "      <th>X</th>\n",
       "      <th>Y</th>\n",
       "      <th>OBJECTID</th>\n",
       "      <th>STARTDATE</th>\n",
       "      <th>TmSTARTDAT</th>\n",
       "      <th>FINISHDATE</th>\n",
       "      <th>TmFINISHDA</th>\n",
       "      <th>EXACTDATE</th>\n",
       "      <th>PARTMONTH</th>\n",
       "      <th>LOCNAME</th>\n",
       "      <th>...</th>\n",
       "      <th>CTLAPPAIR</th>\n",
       "      <th>CTLAPPMECH</th>\n",
       "      <th>CTLAPPUNK</th>\n",
       "      <th>CTLESTKILL</th>\n",
       "      <th>CAT</th>\n",
       "      <th>year</th>\n",
       "      <th>month</th>\n",
       "      <th>day</th>\n",
       "      <th>day_of_year</th>\n",
       "      <th>season</th>\n",
       "    </tr>\n",
       "  </thead>\n",
       "  <tbody>\n",
       "    <tr>\n",
       "      <th>22178</th>\n",
       "      <td>42.015833</td>\n",
       "      <td>9.699444</td>\n",
       "      <td>22179</td>\n",
       "      <td>2014-04-08</td>\n",
       "      <td>12:00</td>\n",
       "      <td>2014/04/08 00:00:00</td>\n",
       "      <td>12:00</td>\n",
       "      <td>No</td>\n",
       "      <td>Early</td>\n",
       "      <td>Dagaha</td>\n",
       "      <td>...</td>\n",
       "      <td>1</td>\n",
       "      <td>0</td>\n",
       "      <td>0</td>\n",
       "      <td>0</td>\n",
       "      <td>Swarm</td>\n",
       "      <td>2014</td>\n",
       "      <td>4</td>\n",
       "      <td>8</td>\n",
       "      <td>98</td>\n",
       "      <td>2</td>\n",
       "    </tr>\n",
       "    <tr>\n",
       "      <th>22179</th>\n",
       "      <td>43.009444</td>\n",
       "      <td>9.540556</td>\n",
       "      <td>22180</td>\n",
       "      <td>2014-04-08</td>\n",
       "      <td>12:00</td>\n",
       "      <td>2014/04/08 00:00:00</td>\n",
       "      <td>12:00</td>\n",
       "      <td>No</td>\n",
       "      <td>Early</td>\n",
       "      <td>Rujf</td>\n",
       "      <td>...</td>\n",
       "      <td>0</td>\n",
       "      <td>0</td>\n",
       "      <td>0</td>\n",
       "      <td>1</td>\n",
       "      <td>Swarm</td>\n",
       "      <td>2014</td>\n",
       "      <td>4</td>\n",
       "      <td>8</td>\n",
       "      <td>98</td>\n",
       "      <td>2</td>\n",
       "    </tr>\n",
       "    <tr>\n",
       "      <th>22180</th>\n",
       "      <td>35.907500</td>\n",
       "      <td>20.993333</td>\n",
       "      <td>22181</td>\n",
       "      <td>2014-02-24</td>\n",
       "      <td>13:10</td>\n",
       "      <td>2014/02/24 00:00:00</td>\n",
       "      <td>13:10</td>\n",
       "      <td>No</td>\n",
       "      <td>Late</td>\n",
       "      <td></td>\n",
       "      <td>...</td>\n",
       "      <td>1</td>\n",
       "      <td>0</td>\n",
       "      <td>0</td>\n",
       "      <td>0</td>\n",
       "      <td>Swarm</td>\n",
       "      <td>2014</td>\n",
       "      <td>2</td>\n",
       "      <td>24</td>\n",
       "      <td>55</td>\n",
       "      <td>1</td>\n",
       "    </tr>\n",
       "    <tr>\n",
       "      <th>22181</th>\n",
       "      <td>37.873056</td>\n",
       "      <td>18.278611</td>\n",
       "      <td>22182</td>\n",
       "      <td>2014-01-02</td>\n",
       "      <td>14:26</td>\n",
       "      <td>2014/01/02 00:00:00</td>\n",
       "      <td>14:26</td>\n",
       "      <td>No</td>\n",
       "      <td>Early</td>\n",
       "      <td></td>\n",
       "      <td>...</td>\n",
       "      <td>1</td>\n",
       "      <td>0</td>\n",
       "      <td>0</td>\n",
       "      <td>0</td>\n",
       "      <td>Swarm</td>\n",
       "      <td>2014</td>\n",
       "      <td>1</td>\n",
       "      <td>2</td>\n",
       "      <td>2</td>\n",
       "      <td>1</td>\n",
       "    </tr>\n",
       "    <tr>\n",
       "      <th>22182</th>\n",
       "      <td>-16.192222</td>\n",
       "      <td>19.243889</td>\n",
       "      <td>22183</td>\n",
       "      <td>2014-01-01</td>\n",
       "      <td>10:40</td>\n",
       "      <td>2014/01/01 00:00:00</td>\n",
       "      <td>10:40</td>\n",
       "      <td>No</td>\n",
       "      <td>Early</td>\n",
       "      <td></td>\n",
       "      <td>...</td>\n",
       "      <td>0</td>\n",
       "      <td>0</td>\n",
       "      <td>0</td>\n",
       "      <td>0</td>\n",
       "      <td>Swarm</td>\n",
       "      <td>2014</td>\n",
       "      <td>1</td>\n",
       "      <td>1</td>\n",
       "      <td>1</td>\n",
       "      <td>1</td>\n",
       "    </tr>\n",
       "  </tbody>\n",
       "</table>\n",
       "<p>5 rows × 157 columns</p>\n",
       "</div>"
      ],
      "text/plain": [
       "               X          Y  OBJECTID  STARTDATE TmSTARTDAT   \n",
       "22178  42.015833   9.699444     22179 2014-04-08      12:00  \\\n",
       "22179  43.009444   9.540556     22180 2014-04-08      12:00   \n",
       "22180  35.907500  20.993333     22181 2014-02-24      13:10   \n",
       "22181  37.873056  18.278611     22182 2014-01-02      14:26   \n",
       "22182 -16.192222  19.243889     22183 2014-01-01      10:40   \n",
       "\n",
       "                FINISHDATE TmFINISHDA EXACTDATE PARTMONTH LOCNAME  ...   \n",
       "22178  2014/04/08 00:00:00      12:00        No     Early  Dagaha  ...  \\\n",
       "22179  2014/04/08 00:00:00      12:00        No     Early    Rujf  ...   \n",
       "22180  2014/02/24 00:00:00      13:10        No      Late          ...   \n",
       "22181  2014/01/02 00:00:00      14:26        No     Early          ...   \n",
       "22182  2014/01/01 00:00:00      10:40        No     Early          ...   \n",
       "\n",
       "       CTLAPPAIR CTLAPPMECH CTLAPPUNK  CTLESTKILL    CAT  year  month  day   \n",
       "22178          1          0         0           0  Swarm  2014      4    8  \\\n",
       "22179          0          0         0           1  Swarm  2014      4    8   \n",
       "22180          1          0         0           0  Swarm  2014      2   24   \n",
       "22181          1          0         0           0  Swarm  2014      1    2   \n",
       "22182          0          0         0           0  Swarm  2014      1    1   \n",
       "\n",
       "       day_of_year  season  \n",
       "22178           98       2  \n",
       "22179           98       2  \n",
       "22180           55       1  \n",
       "22181            2       1  \n",
       "22182            1       1  \n",
       "\n",
       "[5 rows x 157 columns]"
      ]
     },
     "execution_count": 96,
     "metadata": {},
     "output_type": "execute_result"
    }
   ],
   "source": [
    "df_train.tail()"
   ]
  },
  {
   "cell_type": "code",
   "execution_count": 98,
   "metadata": {},
   "outputs": [],
   "source": [
    "df_test = df[df['year']==2020]\n",
    "X_test = df_test[['year','month','day_of_year','season']]\n",
    "X_test = X_test.values\n",
    "Y_test = df_test[['X','Y']]\n",
    "Y_test = Y_test.values"
   ]
  },
  {
   "cell_type": "code",
   "execution_count": 99,
   "metadata": {},
   "outputs": [
    {
     "data": {
      "text/html": [
       "<div>\n",
       "<style scoped>\n",
       "    .dataframe tbody tr th:only-of-type {\n",
       "        vertical-align: middle;\n",
       "    }\n",
       "\n",
       "    .dataframe tbody tr th {\n",
       "        vertical-align: top;\n",
       "    }\n",
       "\n",
       "    .dataframe thead th {\n",
       "        text-align: right;\n",
       "    }\n",
       "</style>\n",
       "<table border=\"1\" class=\"dataframe\">\n",
       "  <thead>\n",
       "    <tr style=\"text-align: right;\">\n",
       "      <th></th>\n",
       "      <th>X</th>\n",
       "      <th>Y</th>\n",
       "      <th>OBJECTID</th>\n",
       "      <th>STARTDATE</th>\n",
       "      <th>TmSTARTDAT</th>\n",
       "      <th>FINISHDATE</th>\n",
       "      <th>TmFINISHDA</th>\n",
       "      <th>EXACTDATE</th>\n",
       "      <th>PARTMONTH</th>\n",
       "      <th>LOCNAME</th>\n",
       "      <th>...</th>\n",
       "      <th>CTLAPPAIR</th>\n",
       "      <th>CTLAPPMECH</th>\n",
       "      <th>CTLAPPUNK</th>\n",
       "      <th>CTLESTKILL</th>\n",
       "      <th>CAT</th>\n",
       "      <th>year</th>\n",
       "      <th>month</th>\n",
       "      <th>day</th>\n",
       "      <th>day_of_year</th>\n",
       "      <th>season</th>\n",
       "    </tr>\n",
       "  </thead>\n",
       "  <tbody>\n",
       "    <tr>\n",
       "      <th>29379</th>\n",
       "      <td>45.466389</td>\n",
       "      <td>9.576111</td>\n",
       "      <td>34317</td>\n",
       "      <td>2020-06-30 21:59:59</td>\n",
       "      <td>00:00</td>\n",
       "      <td>2020/06/30 21:59:59</td>\n",
       "      <td>00:00</td>\n",
       "      <td>No</td>\n",
       "      <td>Early</td>\n",
       "      <td>Togdheer bariga</td>\n",
       "      <td>...</td>\n",
       "      <td>0</td>\n",
       "      <td>0</td>\n",
       "      <td>1</td>\n",
       "      <td>0</td>\n",
       "      <td>Swarm</td>\n",
       "      <td>2020</td>\n",
       "      <td>6</td>\n",
       "      <td>30</td>\n",
       "      <td>182</td>\n",
       "      <td>3</td>\n",
       "    </tr>\n",
       "    <tr>\n",
       "      <th>29380</th>\n",
       "      <td>37.416667</td>\n",
       "      <td>3.123333</td>\n",
       "      <td>34318</td>\n",
       "      <td>2020-07-06 21:59:59</td>\n",
       "      <td>00:00</td>\n",
       "      <td>2020/07/06 21:59:59</td>\n",
       "      <td>00:00</td>\n",
       "      <td>No</td>\n",
       "      <td>Early</td>\n",
       "      <td>bas ada kalacha mars</td>\n",
       "      <td>...</td>\n",
       "      <td>0</td>\n",
       "      <td>0</td>\n",
       "      <td>1</td>\n",
       "      <td>0</td>\n",
       "      <td>Swarm</td>\n",
       "      <td>2020</td>\n",
       "      <td>7</td>\n",
       "      <td>6</td>\n",
       "      <td>188</td>\n",
       "      <td>3</td>\n",
       "    </tr>\n",
       "    <tr>\n",
       "      <th>29381</th>\n",
       "      <td>37.416111</td>\n",
       "      <td>3.123889</td>\n",
       "      <td>34319</td>\n",
       "      <td>2020-07-06 21:59:59</td>\n",
       "      <td>00:00</td>\n",
       "      <td>2020/07/06 21:59:59</td>\n",
       "      <td>00:00</td>\n",
       "      <td>No</td>\n",
       "      <td>Early</td>\n",
       "      <td>bas ada kalacha mars</td>\n",
       "      <td>...</td>\n",
       "      <td>0</td>\n",
       "      <td>0</td>\n",
       "      <td>1</td>\n",
       "      <td>0</td>\n",
       "      <td>Swarm</td>\n",
       "      <td>2020</td>\n",
       "      <td>7</td>\n",
       "      <td>6</td>\n",
       "      <td>188</td>\n",
       "      <td>3</td>\n",
       "    </tr>\n",
       "    <tr>\n",
       "      <th>29382</th>\n",
       "      <td>37.066389</td>\n",
       "      <td>3.320278</td>\n",
       "      <td>34320</td>\n",
       "      <td>2020-07-06 21:59:59</td>\n",
       "      <td>00:00</td>\n",
       "      <td>2020/07/06 21:59:59</td>\n",
       "      <td>00:00</td>\n",
       "      <td>No</td>\n",
       "      <td>Early</td>\n",
       "      <td>BuraMarsabit County</td>\n",
       "      <td>...</td>\n",
       "      <td>0</td>\n",
       "      <td>0</td>\n",
       "      <td>1</td>\n",
       "      <td>0</td>\n",
       "      <td>Swarm</td>\n",
       "      <td>2020</td>\n",
       "      <td>7</td>\n",
       "      <td>6</td>\n",
       "      <td>188</td>\n",
       "      <td>3</td>\n",
       "    </tr>\n",
       "    <tr>\n",
       "      <th>29383</th>\n",
       "      <td>67.620556</td>\n",
       "      <td>26.696667</td>\n",
       "      <td>34321</td>\n",
       "      <td>2020-07-05 21:59:59</td>\n",
       "      <td>00:00</td>\n",
       "      <td>2020/07/05 21:59:59</td>\n",
       "      <td>00:00</td>\n",
       "      <td>No</td>\n",
       "      <td>Early</td>\n",
       "      <td>Sindh</td>\n",
       "      <td>...</td>\n",
       "      <td>0</td>\n",
       "      <td>0</td>\n",
       "      <td>1</td>\n",
       "      <td>85</td>\n",
       "      <td>Swarm</td>\n",
       "      <td>2020</td>\n",
       "      <td>7</td>\n",
       "      <td>5</td>\n",
       "      <td>187</td>\n",
       "      <td>3</td>\n",
       "    </tr>\n",
       "  </tbody>\n",
       "</table>\n",
       "<p>5 rows × 157 columns</p>\n",
       "</div>"
      ],
      "text/plain": [
       "               X          Y  OBJECTID           STARTDATE TmSTARTDAT   \n",
       "29379  45.466389   9.576111     34317 2020-06-30 21:59:59      00:00  \\\n",
       "29380  37.416667   3.123333     34318 2020-07-06 21:59:59      00:00   \n",
       "29381  37.416111   3.123889     34319 2020-07-06 21:59:59      00:00   \n",
       "29382  37.066389   3.320278     34320 2020-07-06 21:59:59      00:00   \n",
       "29383  67.620556  26.696667     34321 2020-07-05 21:59:59      00:00   \n",
       "\n",
       "                FINISHDATE TmFINISHDA EXACTDATE PARTMONTH   \n",
       "29379  2020/06/30 21:59:59      00:00        No     Early  \\\n",
       "29380  2020/07/06 21:59:59      00:00        No     Early   \n",
       "29381  2020/07/06 21:59:59      00:00        No     Early   \n",
       "29382  2020/07/06 21:59:59      00:00        No     Early   \n",
       "29383  2020/07/05 21:59:59      00:00        No     Early   \n",
       "\n",
       "                    LOCNAME  ...  CTLAPPAIR CTLAPPMECH CTLAPPUNK  CTLESTKILL   \n",
       "29379       Togdheer bariga  ...          0          0         1           0  \\\n",
       "29380  bas ada kalacha mars  ...          0          0         1           0   \n",
       "29381  bas ada kalacha mars  ...          0          0         1           0   \n",
       "29382   BuraMarsabit County  ...          0          0         1           0   \n",
       "29383                 Sindh  ...          0          0         1          85   \n",
       "\n",
       "         CAT  year  month  day  day_of_year  season  \n",
       "29379  Swarm  2020      6   30          182       3  \n",
       "29380  Swarm  2020      7    6          188       3  \n",
       "29381  Swarm  2020      7    6          188       3  \n",
       "29382  Swarm  2020      7    6          188       3  \n",
       "29383  Swarm  2020      7    5          187       3  \n",
       "\n",
       "[5 rows x 157 columns]"
      ]
     },
     "execution_count": 99,
     "metadata": {},
     "output_type": "execute_result"
    }
   ],
   "source": [
    "df_test.tail()"
   ]
  },
  {
   "cell_type": "code",
   "execution_count": 100,
   "metadata": {},
   "outputs": [
    {
     "data": {
      "text/plain": [
       "4767"
      ]
     },
     "execution_count": 100,
     "metadata": {},
     "output_type": "execute_result"
    }
   ],
   "source": [
    "len(X_test)"
   ]
  },
  {
   "cell_type": "code",
   "execution_count": 74,
   "metadata": {},
   "outputs": [],
   "source": [
    "# X_train = X.values"
   ]
  },
  {
   "cell_type": "code",
   "execution_count": 75,
   "metadata": {},
   "outputs": [
    {
     "data": {
      "text/plain": [
       "array([1985,   11,  334,    4])"
      ]
     },
     "execution_count": 75,
     "metadata": {},
     "output_type": "execute_result"
    }
   ],
   "source": [
    "X_train[0]"
   ]
  },
  {
   "cell_type": "code",
   "execution_count": 76,
   "metadata": {},
   "outputs": [],
   "source": [
    "# X.head()"
   ]
  },
  {
   "cell_type": "code",
   "execution_count": 77,
   "metadata": {},
   "outputs": [],
   "source": [
    "# Y = df[['X','Y']]"
   ]
  },
  {
   "cell_type": "code",
   "execution_count": 78,
   "metadata": {},
   "outputs": [],
   "source": [
    "# Y.head()"
   ]
  },
  {
   "cell_type": "code",
   "execution_count": 79,
   "metadata": {},
   "outputs": [],
   "source": [
    "# Y_train = Y.values\n",
    "# Y_train[0]"
   ]
  },
  {
   "cell_type": "code",
   "execution_count": 80,
   "metadata": {},
   "outputs": [],
   "source": [
    "# from sklearn.model_selection import train_test_split\n",
    "\n",
    "# X_train, X_test, Y_train, Y_test = train_test_split(X_train, Y_train, test_size=0.2, random_state=42)\n"
   ]
  },
  {
   "cell_type": "code",
   "execution_count": 101,
   "metadata": {},
   "outputs": [
    {
     "data": {
      "text/plain": [
       "22080"
      ]
     },
     "execution_count": 101,
     "metadata": {},
     "output_type": "execute_result"
    }
   ],
   "source": [
    "len(X_train)"
   ]
  },
  {
   "cell_type": "code",
   "execution_count": 102,
   "metadata": {},
   "outputs": [
    {
     "data": {
      "text/plain": [
       "4767"
      ]
     },
     "execution_count": 102,
     "metadata": {},
     "output_type": "execute_result"
    }
   ],
   "source": [
    "len(X_test)"
   ]
  },
  {
   "cell_type": "code",
   "execution_count": 141,
   "metadata": {},
   "outputs": [
    {
     "name": "stdout",
     "output_type": "stream",
     "text": [
      "[0]\tvalidation_0-rmse:35.12073\n",
      "[1]\tvalidation_0-rmse:32.81805\n",
      "[2]\tvalidation_0-rmse:30.77784\n"
     ]
    },
    {
     "name": "stdout",
     "output_type": "stream",
     "text": [
      "[3]\tvalidation_0-rmse:28.97724\n",
      "[4]\tvalidation_0-rmse:27.21113\n",
      "[5]\tvalidation_0-rmse:25.65637\n",
      "[6]\tvalidation_0-rmse:24.28832\n",
      "[7]\tvalidation_0-rmse:23.13678\n",
      "[8]\tvalidation_0-rmse:22.14044\n",
      "[9]\tvalidation_0-rmse:21.20992\n",
      "[10]\tvalidation_0-rmse:20.44583\n",
      "[11]\tvalidation_0-rmse:19.73094\n",
      "[12]\tvalidation_0-rmse:19.18375\n",
      "[13]\tvalidation_0-rmse:18.63821\n",
      "[14]\tvalidation_0-rmse:18.16813\n",
      "[15]\tvalidation_0-rmse:17.79127\n",
      "[16]\tvalidation_0-rmse:17.47727\n",
      "[17]\tvalidation_0-rmse:17.20500\n",
      "[18]\tvalidation_0-rmse:16.94429\n",
      "[19]\tvalidation_0-rmse:16.75534\n",
      "[20]\tvalidation_0-rmse:16.56481\n",
      "[21]\tvalidation_0-rmse:16.40770\n",
      "[22]\tvalidation_0-rmse:16.25385\n",
      "[23]\tvalidation_0-rmse:16.13375\n",
      "[24]\tvalidation_0-rmse:16.02719\n",
      "[25]\tvalidation_0-rmse:15.93554\n",
      "[26]\tvalidation_0-rmse:15.83759\n",
      "[27]\tvalidation_0-rmse:15.76773\n",
      "[28]\tvalidation_0-rmse:15.71140\n",
      "[29]\tvalidation_0-rmse:15.65591\n",
      "[30]\tvalidation_0-rmse:15.60803\n",
      "[31]\tvalidation_0-rmse:15.57041\n",
      "[32]\tvalidation_0-rmse:15.51831\n",
      "[33]\tvalidation_0-rmse:15.49208\n",
      "[34]\tvalidation_0-rmse:15.47148\n",
      "[35]\tvalidation_0-rmse:15.42781\n",
      "[36]\tvalidation_0-rmse:15.38433\n",
      "[37]\tvalidation_0-rmse:15.37272\n",
      "[38]\tvalidation_0-rmse:15.34132\n",
      "[39]\tvalidation_0-rmse:15.34149\n",
      "[40]\tvalidation_0-rmse:15.33419\n",
      "[41]\tvalidation_0-rmse:15.32764\n",
      "[42]\tvalidation_0-rmse:15.32239\n",
      "[43]\tvalidation_0-rmse:15.30526\n",
      "[44]\tvalidation_0-rmse:15.30188\n",
      "[45]\tvalidation_0-rmse:15.29008\n",
      "[46]\tvalidation_0-rmse:15.29080\n",
      "[47]\tvalidation_0-rmse:15.29422\n",
      "[48]\tvalidation_0-rmse:15.29618\n",
      "[49]\tvalidation_0-rmse:15.29569\n",
      "[50]\tvalidation_0-rmse:15.28839\n",
      "[51]\tvalidation_0-rmse:15.28334\n",
      "[52]\tvalidation_0-rmse:15.28115\n",
      "[53]\tvalidation_0-rmse:15.27833\n",
      "[54]\tvalidation_0-rmse:15.28065\n",
      "[55]\tvalidation_0-rmse:15.28018\n",
      "[56]\tvalidation_0-rmse:15.28048\n",
      "[57]\tvalidation_0-rmse:15.28115\n",
      "[58]\tvalidation_0-rmse:15.28092\n",
      "[59]\tvalidation_0-rmse:15.28117\n",
      "[60]\tvalidation_0-rmse:15.28109\n",
      "[61]\tvalidation_0-rmse:15.28014\n",
      "[62]\tvalidation_0-rmse:15.27662\n",
      "[63]\tvalidation_0-rmse:15.27856\n",
      "[64]\tvalidation_0-rmse:15.27448\n",
      "[65]\tvalidation_0-rmse:15.27346\n",
      "[66]\tvalidation_0-rmse:15.27375\n",
      "[67]\tvalidation_0-rmse:15.27345\n",
      "[68]\tvalidation_0-rmse:15.27384\n",
      "[69]\tvalidation_0-rmse:15.27385\n",
      "[70]\tvalidation_0-rmse:15.27230\n",
      "[71]\tvalidation_0-rmse:15.27112\n",
      "[72]\tvalidation_0-rmse:15.27364\n",
      "[73]\tvalidation_0-rmse:15.27041\n",
      "[74]\tvalidation_0-rmse:15.26955\n",
      "[75]\tvalidation_0-rmse:15.26874\n",
      "[76]\tvalidation_0-rmse:15.26783\n",
      "[77]\tvalidation_0-rmse:15.26687\n",
      "[78]\tvalidation_0-rmse:15.26682\n",
      "[79]\tvalidation_0-rmse:15.26818\n",
      "[80]\tvalidation_0-rmse:15.27110\n",
      "[81]\tvalidation_0-rmse:15.27152\n",
      "[82]\tvalidation_0-rmse:15.27004\n",
      "[83]\tvalidation_0-rmse:15.26906\n",
      "[84]\tvalidation_0-rmse:15.26922\n",
      "[85]\tvalidation_0-rmse:15.26872\n",
      "[86]\tvalidation_0-rmse:15.26632\n",
      "[87]\tvalidation_0-rmse:15.26349\n",
      "[88]\tvalidation_0-rmse:15.26419\n",
      "[89]\tvalidation_0-rmse:15.26216\n",
      "[90]\tvalidation_0-rmse:15.25554\n",
      "[91]\tvalidation_0-rmse:15.25552\n",
      "[92]\tvalidation_0-rmse:15.25278\n",
      "[93]\tvalidation_0-rmse:15.25175\n",
      "[94]\tvalidation_0-rmse:15.25185\n",
      "[95]\tvalidation_0-rmse:15.25328\n",
      "[96]\tvalidation_0-rmse:15.25419\n",
      "[97]\tvalidation_0-rmse:15.25359\n",
      "[98]\tvalidation_0-rmse:15.25480\n",
      "[99]\tvalidation_0-rmse:15.25246\n",
      "[100]\tvalidation_0-rmse:15.24927\n",
      "[101]\tvalidation_0-rmse:15.24924\n",
      "[102]\tvalidation_0-rmse:15.24905\n",
      "[103]\tvalidation_0-rmse:15.24848\n",
      "[104]\tvalidation_0-rmse:15.24927\n",
      "[105]\tvalidation_0-rmse:15.24815\n",
      "[106]\tvalidation_0-rmse:15.24814\n",
      "[107]\tvalidation_0-rmse:15.24797\n",
      "[108]\tvalidation_0-rmse:15.24385\n",
      "[109]\tvalidation_0-rmse:15.24821\n",
      "[110]\tvalidation_0-rmse:15.24976\n",
      "[111]\tvalidation_0-rmse:15.24935\n",
      "[112]\tvalidation_0-rmse:15.24938\n",
      "[113]\tvalidation_0-rmse:15.24912\n",
      "[114]\tvalidation_0-rmse:15.24903\n",
      "[115]\tvalidation_0-rmse:15.24891\n",
      "[116]\tvalidation_0-rmse:15.24840\n",
      "[117]\tvalidation_0-rmse:15.24950\n",
      "[118]\tvalidation_0-rmse:15.25017\n"
     ]
    },
    {
     "data": {
      "text/html": [
       "<style>#sk-container-id-10 {color: black;}#sk-container-id-10 pre{padding: 0;}#sk-container-id-10 div.sk-toggleable {background-color: white;}#sk-container-id-10 label.sk-toggleable__label {cursor: pointer;display: block;width: 100%;margin-bottom: 0;padding: 0.3em;box-sizing: border-box;text-align: center;}#sk-container-id-10 label.sk-toggleable__label-arrow:before {content: \"▸\";float: left;margin-right: 0.25em;color: #696969;}#sk-container-id-10 label.sk-toggleable__label-arrow:hover:before {color: black;}#sk-container-id-10 div.sk-estimator:hover label.sk-toggleable__label-arrow:before {color: black;}#sk-container-id-10 div.sk-toggleable__content {max-height: 0;max-width: 0;overflow: hidden;text-align: left;background-color: #f0f8ff;}#sk-container-id-10 div.sk-toggleable__content pre {margin: 0.2em;color: black;border-radius: 0.25em;background-color: #f0f8ff;}#sk-container-id-10 input.sk-toggleable__control:checked~div.sk-toggleable__content {max-height: 200px;max-width: 100%;overflow: auto;}#sk-container-id-10 input.sk-toggleable__control:checked~label.sk-toggleable__label-arrow:before {content: \"▾\";}#sk-container-id-10 div.sk-estimator input.sk-toggleable__control:checked~label.sk-toggleable__label {background-color: #d4ebff;}#sk-container-id-10 div.sk-label input.sk-toggleable__control:checked~label.sk-toggleable__label {background-color: #d4ebff;}#sk-container-id-10 input.sk-hidden--visually {border: 0;clip: rect(1px 1px 1px 1px);clip: rect(1px, 1px, 1px, 1px);height: 1px;margin: -1px;overflow: hidden;padding: 0;position: absolute;width: 1px;}#sk-container-id-10 div.sk-estimator {font-family: monospace;background-color: #f0f8ff;border: 1px dotted black;border-radius: 0.25em;box-sizing: border-box;margin-bottom: 0.5em;}#sk-container-id-10 div.sk-estimator:hover {background-color: #d4ebff;}#sk-container-id-10 div.sk-parallel-item::after {content: \"\";width: 100%;border-bottom: 1px solid gray;flex-grow: 1;}#sk-container-id-10 div.sk-label:hover label.sk-toggleable__label {background-color: #d4ebff;}#sk-container-id-10 div.sk-serial::before {content: \"\";position: absolute;border-left: 1px solid gray;box-sizing: border-box;top: 0;bottom: 0;left: 50%;z-index: 0;}#sk-container-id-10 div.sk-serial {display: flex;flex-direction: column;align-items: center;background-color: white;padding-right: 0.2em;padding-left: 0.2em;position: relative;}#sk-container-id-10 div.sk-item {position: relative;z-index: 1;}#sk-container-id-10 div.sk-parallel {display: flex;align-items: stretch;justify-content: center;background-color: white;position: relative;}#sk-container-id-10 div.sk-item::before, #sk-container-id-10 div.sk-parallel-item::before {content: \"\";position: absolute;border-left: 1px solid gray;box-sizing: border-box;top: 0;bottom: 0;left: 50%;z-index: -1;}#sk-container-id-10 div.sk-parallel-item {display: flex;flex-direction: column;z-index: 1;position: relative;background-color: white;}#sk-container-id-10 div.sk-parallel-item:first-child::after {align-self: flex-end;width: 50%;}#sk-container-id-10 div.sk-parallel-item:last-child::after {align-self: flex-start;width: 50%;}#sk-container-id-10 div.sk-parallel-item:only-child::after {width: 0;}#sk-container-id-10 div.sk-dashed-wrapped {border: 1px dashed gray;margin: 0 0.4em 0.5em 0.4em;box-sizing: border-box;padding-bottom: 0.4em;background-color: white;}#sk-container-id-10 div.sk-label label {font-family: monospace;font-weight: bold;display: inline-block;line-height: 1.2em;}#sk-container-id-10 div.sk-label-container {text-align: center;}#sk-container-id-10 div.sk-container {/* jupyter's `normalize.less` sets `[hidden] { display: none; }` but bootstrap.min.css set `[hidden] { display: none !important; }` so we also need the `!important` here to be able to override the default hidden behavior on the sphinx rendered scikit-learn.org. See: https://github.com/scikit-learn/scikit-learn/issues/21755 */display: inline-block !important;position: relative;}#sk-container-id-10 div.sk-text-repr-fallback {display: none;}</style><div id=\"sk-container-id-10\" class=\"sk-top-container\"><div class=\"sk-text-repr-fallback\"><pre>XGBRegressor(base_score=None, booster=None, callbacks=None,\n",
       "             colsample_bylevel=None, colsample_bynode=None,\n",
       "             colsample_bytree=None, early_stopping_rounds=None,\n",
       "             enable_categorical=False, eval_metric=None, feature_types=None,\n",
       "             gamma=None, gpu_id=None, grow_policy=None, importance_type=None,\n",
       "             interaction_constraints=None, learning_rate=0.1, max_bin=None,\n",
       "             max_cat_threshold=None, max_cat_to_onehot=None,\n",
       "             max_delta_step=None, max_depth=7, max_leaves=None,\n",
       "             min_child_weight=None, missing=nan, monotone_constraints=None,\n",
       "             n_estimators=1000, n_jobs=None, num_parallel_tree=None,\n",
       "             predictor=None, random_state=None, ...)</pre><b>In a Jupyter environment, please rerun this cell to show the HTML representation or trust the notebook. <br />On GitHub, the HTML representation is unable to render, please try loading this page with nbviewer.org.</b></div><div class=\"sk-container\" hidden><div class=\"sk-item\"><div class=\"sk-estimator sk-toggleable\"><input class=\"sk-toggleable__control sk-hidden--visually\" id=\"sk-estimator-id-10\" type=\"checkbox\" checked><label for=\"sk-estimator-id-10\" class=\"sk-toggleable__label sk-toggleable__label-arrow\">XGBRegressor</label><div class=\"sk-toggleable__content\"><pre>XGBRegressor(base_score=None, booster=None, callbacks=None,\n",
       "             colsample_bylevel=None, colsample_bynode=None,\n",
       "             colsample_bytree=None, early_stopping_rounds=None,\n",
       "             enable_categorical=False, eval_metric=None, feature_types=None,\n",
       "             gamma=None, gpu_id=None, grow_policy=None, importance_type=None,\n",
       "             interaction_constraints=None, learning_rate=0.1, max_bin=None,\n",
       "             max_cat_threshold=None, max_cat_to_onehot=None,\n",
       "             max_delta_step=None, max_depth=7, max_leaves=None,\n",
       "             min_child_weight=None, missing=nan, monotone_constraints=None,\n",
       "             n_estimators=1000, n_jobs=None, num_parallel_tree=None,\n",
       "             predictor=None, random_state=None, ...)</pre></div></div></div></div></div>"
      ],
      "text/plain": [
       "XGBRegressor(base_score=None, booster=None, callbacks=None,\n",
       "             colsample_bylevel=None, colsample_bynode=None,\n",
       "             colsample_bytree=None, early_stopping_rounds=None,\n",
       "             enable_categorical=False, eval_metric=None, feature_types=None,\n",
       "             gamma=None, gpu_id=None, grow_policy=None, importance_type=None,\n",
       "             interaction_constraints=None, learning_rate=0.1, max_bin=None,\n",
       "             max_cat_threshold=None, max_cat_to_onehot=None,\n",
       "             max_delta_step=None, max_depth=7, max_leaves=None,\n",
       "             min_child_weight=None, missing=nan, monotone_constraints=None,\n",
       "             n_estimators=1000, n_jobs=None, num_parallel_tree=None,\n",
       "             predictor=None, random_state=None, ...)"
      ]
     },
     "execution_count": 141,
     "metadata": {},
     "output_type": "execute_result"
    }
   ],
   "source": [
    "from xgboost import XGBRegressor\n",
    "from sklearn.metrics import mean_squared_error\n",
    "\n",
    "xgb_model = XGBRegressor(objective='reg:squarederror', max_depth=7, learning_rate=0.1, n_estimators=1000)\n",
    "\n",
    "# Fit the model on the training set\n",
    "xgb_model.fit(X_train, Y_train,eval_set=[(X_test, Y_test)],eval_metric='rmse',verbose =True, early_stopping_rounds=10)"
   ]
  },
  {
   "cell_type": "code",
   "execution_count": 139,
   "metadata": {},
   "outputs": [
    {
     "name": "stdout",
     "output_type": "stream",
     "text": [
      "Mean Squared Error: 230.6735193627539\n"
     ]
    }
   ],
   "source": [
    "y_pred = xgb_model.predict(X_test)\n",
    "\n",
    "# Evaluate the model\n",
    "mse = mean_squared_error(Y_test, y_pred)\n",
    "print(f'Mean Squared Error: {mse}')"
   ]
  },
  {
   "cell_type": "code",
   "execution_count": 131,
   "metadata": {},
   "outputs": [
    {
     "data": {
      "text/plain": [
       "array([2020,    1,   24,    1])"
      ]
     },
     "execution_count": 131,
     "metadata": {},
     "output_type": "execute_result"
    }
   ],
   "source": [
    "X_test[0]"
   ]
  },
  {
   "cell_type": "code",
   "execution_count": 1,
   "metadata": {},
   "outputs": [],
   "source": [
    "import joblib\n",
    "xgb_model = joblib.load('best_model.joblib')"
   ]
  },
  {
   "cell_type": "code",
   "execution_count": 6,
   "metadata": {},
   "outputs": [
    {
     "data": {
      "text/plain": [
       "array([[39.911236, 12.408764]], dtype=float32)"
      ]
     },
     "execution_count": 6,
     "metadata": {},
     "output_type": "execute_result"
    }
   ],
   "source": [
    "xgb_model.predict([[2021,1,120,1]])"
   ]
  },
  {
   "cell_type": "code",
   "execution_count": 133,
   "metadata": {},
   "outputs": [
    {
     "data": {
      "text/plain": [
       "['best_model.joblib']"
      ]
     },
     "execution_count": 133,
     "metadata": {},
     "output_type": "execute_result"
    }
   ],
   "source": [
    "import joblib\n",
    "joblib.dump(xgb_model,'best_model.joblib')"
   ]
  },
  {
   "cell_type": "code",
   "execution_count": 134,
   "metadata": {},
   "outputs": [
    {
     "data": {
      "text/html": [
       "<style>#sk-container-id-7 {color: black;}#sk-container-id-7 pre{padding: 0;}#sk-container-id-7 div.sk-toggleable {background-color: white;}#sk-container-id-7 label.sk-toggleable__label {cursor: pointer;display: block;width: 100%;margin-bottom: 0;padding: 0.3em;box-sizing: border-box;text-align: center;}#sk-container-id-7 label.sk-toggleable__label-arrow:before {content: \"▸\";float: left;margin-right: 0.25em;color: #696969;}#sk-container-id-7 label.sk-toggleable__label-arrow:hover:before {color: black;}#sk-container-id-7 div.sk-estimator:hover label.sk-toggleable__label-arrow:before {color: black;}#sk-container-id-7 div.sk-toggleable__content {max-height: 0;max-width: 0;overflow: hidden;text-align: left;background-color: #f0f8ff;}#sk-container-id-7 div.sk-toggleable__content pre {margin: 0.2em;color: black;border-radius: 0.25em;background-color: #f0f8ff;}#sk-container-id-7 input.sk-toggleable__control:checked~div.sk-toggleable__content {max-height: 200px;max-width: 100%;overflow: auto;}#sk-container-id-7 input.sk-toggleable__control:checked~label.sk-toggleable__label-arrow:before {content: \"▾\";}#sk-container-id-7 div.sk-estimator input.sk-toggleable__control:checked~label.sk-toggleable__label {background-color: #d4ebff;}#sk-container-id-7 div.sk-label input.sk-toggleable__control:checked~label.sk-toggleable__label {background-color: #d4ebff;}#sk-container-id-7 input.sk-hidden--visually {border: 0;clip: rect(1px 1px 1px 1px);clip: rect(1px, 1px, 1px, 1px);height: 1px;margin: -1px;overflow: hidden;padding: 0;position: absolute;width: 1px;}#sk-container-id-7 div.sk-estimator {font-family: monospace;background-color: #f0f8ff;border: 1px dotted black;border-radius: 0.25em;box-sizing: border-box;margin-bottom: 0.5em;}#sk-container-id-7 div.sk-estimator:hover {background-color: #d4ebff;}#sk-container-id-7 div.sk-parallel-item::after {content: \"\";width: 100%;border-bottom: 1px solid gray;flex-grow: 1;}#sk-container-id-7 div.sk-label:hover label.sk-toggleable__label {background-color: #d4ebff;}#sk-container-id-7 div.sk-serial::before {content: \"\";position: absolute;border-left: 1px solid gray;box-sizing: border-box;top: 0;bottom: 0;left: 50%;z-index: 0;}#sk-container-id-7 div.sk-serial {display: flex;flex-direction: column;align-items: center;background-color: white;padding-right: 0.2em;padding-left: 0.2em;position: relative;}#sk-container-id-7 div.sk-item {position: relative;z-index: 1;}#sk-container-id-7 div.sk-parallel {display: flex;align-items: stretch;justify-content: center;background-color: white;position: relative;}#sk-container-id-7 div.sk-item::before, #sk-container-id-7 div.sk-parallel-item::before {content: \"\";position: absolute;border-left: 1px solid gray;box-sizing: border-box;top: 0;bottom: 0;left: 50%;z-index: -1;}#sk-container-id-7 div.sk-parallel-item {display: flex;flex-direction: column;z-index: 1;position: relative;background-color: white;}#sk-container-id-7 div.sk-parallel-item:first-child::after {align-self: flex-end;width: 50%;}#sk-container-id-7 div.sk-parallel-item:last-child::after {align-self: flex-start;width: 50%;}#sk-container-id-7 div.sk-parallel-item:only-child::after {width: 0;}#sk-container-id-7 div.sk-dashed-wrapped {border: 1px dashed gray;margin: 0 0.4em 0.5em 0.4em;box-sizing: border-box;padding-bottom: 0.4em;background-color: white;}#sk-container-id-7 div.sk-label label {font-family: monospace;font-weight: bold;display: inline-block;line-height: 1.2em;}#sk-container-id-7 div.sk-label-container {text-align: center;}#sk-container-id-7 div.sk-container {/* jupyter's `normalize.less` sets `[hidden] { display: none; }` but bootstrap.min.css set `[hidden] { display: none !important; }` so we also need the `!important` here to be able to override the default hidden behavior on the sphinx rendered scikit-learn.org. See: https://github.com/scikit-learn/scikit-learn/issues/21755 */display: inline-block !important;position: relative;}#sk-container-id-7 div.sk-text-repr-fallback {display: none;}</style><div id=\"sk-container-id-7\" class=\"sk-top-container\"><div class=\"sk-text-repr-fallback\"><pre>RandomForestRegressor(random_state=42)</pre><b>In a Jupyter environment, please rerun this cell to show the HTML representation or trust the notebook. <br />On GitHub, the HTML representation is unable to render, please try loading this page with nbviewer.org.</b></div><div class=\"sk-container\" hidden><div class=\"sk-item\"><div class=\"sk-estimator sk-toggleable\"><input class=\"sk-toggleable__control sk-hidden--visually\" id=\"sk-estimator-id-7\" type=\"checkbox\" checked><label for=\"sk-estimator-id-7\" class=\"sk-toggleable__label sk-toggleable__label-arrow\">RandomForestRegressor</label><div class=\"sk-toggleable__content\"><pre>RandomForestRegressor(random_state=42)</pre></div></div></div></div></div>"
      ],
      "text/plain": [
       "RandomForestRegressor(random_state=42)"
      ]
     },
     "execution_count": 134,
     "metadata": {},
     "output_type": "execute_result"
    }
   ],
   "source": [
    "from sklearn.ensemble import RandomForestRegressor\n",
    "from sklearn.metrics import mean_squared_error\n",
    "from sklearn.model_selection import train_test_split\n",
    "\n",
    "rf_model = RandomForestRegressor(random_state=42)\n",
    "rf_model.fit(X_train, Y_train)\n"
   ]
  },
  {
   "cell_type": "code",
   "execution_count": 135,
   "metadata": {},
   "outputs": [
    {
     "name": "stdout",
     "output_type": "stream",
     "text": [
      "Mean Squared Error on Test Set: 228.58809622596766\n"
     ]
    }
   ],
   "source": [
    "y_pred = rf_model.predict(X_test)\n",
    "\n",
    "# Evaluate the model\n",
    "mse = mean_squared_error(Y_test, y_pred)\n",
    "print(f'Mean Squared Error on Test Set: {mse}')"
   ]
  },
  {
   "cell_type": "code",
   "execution_count": 136,
   "metadata": {},
   "outputs": [
    {
     "data": {
      "text/plain": [
       "array([[42.0721619 , 15.03505714]])"
      ]
     },
     "execution_count": 136,
     "metadata": {},
     "output_type": "execute_result"
    }
   ],
   "source": [
    "rf_model.predict([[2021,6,182,3]])"
   ]
  },
  {
   "cell_type": "code",
   "execution_count": null,
   "metadata": {},
   "outputs": [],
   "source": []
  },
  {
   "cell_type": "code",
   "execution_count": 137,
   "metadata": {},
   "outputs": [
    {
     "data": {
      "text/plain": [
       "['secondary.joblib']"
      ]
     },
     "execution_count": 137,
     "metadata": {},
     "output_type": "execute_result"
    }
   ],
   "source": [
    "import joblib\n",
    "joblib.dump(rf_model,'secondary.joblib')"
   ]
  }
 ],
 "metadata": {
  "kernelspec": {
   "display_name": "Python 3",
   "language": "python",
   "name": "python3"
  },
  "language_info": {
   "codemirror_mode": {
    "name": "ipython",
    "version": 3
   },
   "file_extension": ".py",
   "mimetype": "text/x-python",
   "name": "python",
   "nbconvert_exporter": "python",
   "pygments_lexer": "ipython3",
   "version": "3.11.0"
  }
 },
 "nbformat": 4,
 "nbformat_minor": 2
}
